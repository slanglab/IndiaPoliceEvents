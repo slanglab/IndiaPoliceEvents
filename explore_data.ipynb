{
 "cells": [
  {
   "cell_type": "markdown",
   "metadata": {},
   "source": [
    "## Exploring the IndiaPoliceEvents Corpus\n",
    "\n",
    "This notebook provides example code for working with the *IndiaPoliceEvents* corpus. This corpus consists of every article published by the *Times of India* in March 2002 that match a set of place name keywords. The dataset will be useful for researchers interested in training event extraction systems, evaluating the recall of event-based retrieval methods, evaluating zero-shot event classification models, or for subtantive researchers interested in studying the period of communal violence that overlaps with our corpus's coverage.\n",
    "\n",
    "This dataset accompanies our paper in the *Findings of the Association for Computational Linguistics* 2021. If you use our paper or data, please cite our paper:\n",
    "\n",
    "```\n",
    "@inproceedings{halterman2021corpus,\n",
    "author = {Halterman, Andrew and Keith, Katherine A. and Sarwar, Sheikh Muhammad, and O'Connor, Brendan}, \n",
    "title = {Corpus-Level Evaluation for Event QA:\n",
    "The IndiaPoliceEvents Corpus Covering the 2002 Gujarat Violence},\n",
    "booktitle = {{Findings of ACL}},\n",
    "year = 2021}\n",
    "```"
   ]
  },
  {
   "cell_type": "code",
   "execution_count": 2,
   "metadata": {},
   "outputs": [],
   "source": [
    "import pandas as pd"
   ]
  },
  {
   "cell_type": "markdown",
   "metadata": {},
   "source": [
    "We provide data in several forms, including document-level labels and the raw annotations we collected from annotators, but a good place to start is with the sentence-level annotations. We provide the data in both JSONL and CSV formats and we'll use the CSV format here."
   ]
  },
  {
   "cell_type": "code",
   "execution_count": 2,
   "metadata": {},
   "outputs": [],
   "source": [
    "sents = pd.read_csv(\"data/final/sents.csv\")"
   ]
  },
  {
   "cell_type": "markdown",
   "metadata": {},
   "source": [
    "The dataset consists of 21,391 sentences from 1,257 *Times of India* stories from March 2002. Each sentence is annotated with one of five event classes: KILL, ARREST, ANY_ACTION, FAIL, and FORCE. These labels correspond to to a positive answer to the boolean questions in the paper: \n",
    "\n",
    "- `\"KILL\"`: The text item is indicative of \"Yes\" to the question \"Did police kill someone?\"\n",
    "- `\"ARREST\"`: The text item is indicative of \"Yes\" to the question \"Did police arrest someone?\"\n",
    "- `\"FAIL\"`: The text item is indicative of \"Yes\" to the question \"Did police fail to intervene\"\n",
    "- `\"FORCE\"`: The text item is indicative of \"Yes\" to the question \"Did police use force or violence?\"\n",
    "- `\"ANY ACTION\"`: The text item is indicative of \"Yes\" to the question \"Did police do anything?\"\n",
    "\n",
    "Each sentence can have multiple labels."
   ]
  },
  {
   "cell_type": "code",
   "execution_count": 3,
   "metadata": {},
   "outputs": [
    {
     "data": {
      "text/plain": [
       "(21391, 9)"
      ]
     },
     "execution_count": 3,
     "metadata": {},
     "output_type": "execute_result"
    }
   ],
   "source": [
    "#number of sentences in the dataset\n",
    "sents.shape"
   ]
  },
  {
   "cell_type": "code",
   "execution_count": 4,
   "metadata": {},
   "outputs": [
    {
     "data": {
      "text/plain": [
       "1257"
      ]
     },
     "execution_count": 4,
     "metadata": {},
     "output_type": "execute_result"
    }
   ],
   "source": [
    "#number of documents in the dataset\n",
    "len(sents['doc_id'].unique())"
   ]
  },
  {
   "cell_type": "code",
   "execution_count": 5,
   "metadata": {},
   "outputs": [
    {
     "data": {
      "text/html": [
       "<div>\n",
       "<style scoped>\n",
       "    .dataframe tbody tr th:only-of-type {\n",
       "        vertical-align: middle;\n",
       "    }\n",
       "\n",
       "    .dataframe tbody tr th {\n",
       "        vertical-align: top;\n",
       "    }\n",
       "\n",
       "    .dataframe thead th {\n",
       "        text-align: right;\n",
       "    }\n",
       "</style>\n",
       "<table border=\"1\" class=\"dataframe\">\n",
       "  <thead>\n",
       "    <tr style=\"text-align: right;\">\n",
       "      <th></th>\n",
       "      <th>Unnamed: 0</th>\n",
       "      <th>doc_id</th>\n",
       "      <th>sent_id</th>\n",
       "      <th>sent_text</th>\n",
       "      <th>KILL</th>\n",
       "      <th>ARREST</th>\n",
       "      <th>ANY_ACTION</th>\n",
       "      <th>FAIL</th>\n",
       "      <th>FORCE</th>\n",
       "    </tr>\n",
       "  </thead>\n",
       "  <tbody>\n",
       "    <tr>\n",
       "      <th>0</th>\n",
       "      <td>0</td>\n",
       "      <td>11</td>\n",
       "      <td>0</td>\n",
       "      <td>This story is from March 10, 2002\\n\\n</td>\n",
       "      <td>0</td>\n",
       "      <td>0</td>\n",
       "      <td>0</td>\n",
       "      <td>0</td>\n",
       "      <td>0</td>\n",
       "    </tr>\n",
       "    <tr>\n",
       "      <th>1</th>\n",
       "      <td>1</td>\n",
       "      <td>11</td>\n",
       "      <td>1</td>\n",
       "      <td>lucknow:</td>\n",
       "      <td>0</td>\n",
       "      <td>0</td>\n",
       "      <td>0</td>\n",
       "      <td>0</td>\n",
       "      <td>0</td>\n",
       "    </tr>\n",
       "    <tr>\n",
       "      <th>2</th>\n",
       "      <td>2</td>\n",
       "      <td>11</td>\n",
       "      <td>2</td>\n",
       "      <td>the all-india babri masjid action committee (a...</td>\n",
       "      <td>0</td>\n",
       "      <td>0</td>\n",
       "      <td>0</td>\n",
       "      <td>0</td>\n",
       "      <td>0</td>\n",
       "    </tr>\n",
       "    <tr>\n",
       "      <th>3</th>\n",
       "      <td>3</td>\n",
       "      <td>11</td>\n",
       "      <td>3</td>\n",
       "      <td>holding a state-level meeting on saturday, aib...</td>\n",
       "      <td>0</td>\n",
       "      <td>0</td>\n",
       "      <td>0</td>\n",
       "      <td>0</td>\n",
       "      <td>0</td>\n",
       "    </tr>\n",
       "    <tr>\n",
       "      <th>4</th>\n",
       "      <td>4</td>\n",
       "      <td>11</td>\n",
       "      <td>4</td>\n",
       "      <td>pujanâ€</td>\n",
       "      <td>0</td>\n",
       "      <td>0</td>\n",
       "      <td>0</td>\n",
       "      <td>0</td>\n",
       "      <td>0</td>\n",
       "    </tr>\n",
       "  </tbody>\n",
       "</table>\n",
       "</div>"
      ],
      "text/plain": [
       "   Unnamed: 0  doc_id  sent_id  \\\n",
       "0           0      11        0   \n",
       "1           1      11        1   \n",
       "2           2      11        2   \n",
       "3           3      11        3   \n",
       "4           4      11        4   \n",
       "\n",
       "                                           sent_text  KILL  ARREST  \\\n",
       "0              This story is from March 10, 2002\\n\\n     0       0   \n",
       "1                                           lucknow:     0       0   \n",
       "2  the all-india babri masjid action committee (a...     0       0   \n",
       "3  holding a state-level meeting on saturday, aib...     0       0   \n",
       "4                                            pujanâ€     0       0   \n",
       "\n",
       "   ANY_ACTION  FAIL  FORCE  \n",
       "0           0     0      0  \n",
       "1           0     0      0  \n",
       "2           0     0      0  \n",
       "3           0     0      0  \n",
       "4           0     0      0  "
      ]
     },
     "execution_count": 5,
     "metadata": {},
     "output_type": "execute_result"
    }
   ],
   "source": [
    "#looking at the data \n",
    "sents.head()"
   ]
  },
  {
   "cell_type": "markdown",
   "metadata": {},
   "source": [
    "The labels are relatively sparse: out of 21,391 sentences, fewer than 10% indicate any police activity and more specific labels are present in fewer than 1% of the sentences."
   ]
  },
  {
   "cell_type": "code",
   "execution_count": 6,
   "metadata": {
    "scrolled": false
   },
   "outputs": [
    {
     "data": {
      "text/plain": [
       "96"
      ]
     },
     "execution_count": 6,
     "metadata": {},
     "output_type": "execute_result"
    }
   ],
   "source": [
    "sents['KILL'].sum()"
   ]
  },
  {
   "cell_type": "code",
   "execution_count": 7,
   "metadata": {
    "scrolled": true
   },
   "outputs": [
    {
     "data": {
      "text/plain": [
       "301"
      ]
     },
     "execution_count": 7,
     "metadata": {},
     "output_type": "execute_result"
    }
   ],
   "source": [
    "sents['ARREST'].sum()"
   ]
  },
  {
   "cell_type": "code",
   "execution_count": 8,
   "metadata": {},
   "outputs": [
    {
     "data": {
      "text/plain": [
       "2092"
      ]
     },
     "execution_count": 8,
     "metadata": {},
     "output_type": "execute_result"
    }
   ],
   "source": [
    "sents['ANY_ACTION'].sum()"
   ]
  },
  {
   "cell_type": "code",
   "execution_count": 9,
   "metadata": {},
   "outputs": [
    {
     "data": {
      "text/plain": [
       "207"
      ]
     },
     "execution_count": 9,
     "metadata": {},
     "output_type": "execute_result"
    }
   ],
   "source": [
    "sents['FAIL'].sum()"
   ]
  },
  {
   "cell_type": "code",
   "execution_count": 10,
   "metadata": {},
   "outputs": [
    {
     "data": {
      "text/plain": [
       "222"
      ]
     },
     "execution_count": 10,
     "metadata": {},
     "output_type": "execute_result"
    }
   ],
   "source": [
    "sents['FORCE'].sum()"
   ]
  },
  {
   "cell_type": "markdown",
   "metadata": {},
   "source": [
    "### Loading document metadata\n",
    "We also provide document url's and dates which can be joined with the sentence-level and document-level information. "
   ]
  },
  {
   "cell_type": "code",
   "execution_count": 5,
   "metadata": {},
   "outputs": [],
   "source": [
    "metadata = pd.read_csv('data/final/metadata.csv')"
   ]
  },
  {
   "cell_type": "code",
   "execution_count": 6,
   "metadata": {},
   "outputs": [
    {
     "data": {
      "text/html": [
       "<div>\n",
       "<style scoped>\n",
       "    .dataframe tbody tr th:only-of-type {\n",
       "        vertical-align: middle;\n",
       "    }\n",
       "\n",
       "    .dataframe tbody tr th {\n",
       "        vertical-align: top;\n",
       "    }\n",
       "\n",
       "    .dataframe thead th {\n",
       "        text-align: right;\n",
       "    }\n",
       "</style>\n",
       "<table border=\"1\" class=\"dataframe\">\n",
       "  <thead>\n",
       "    <tr style=\"text-align: right;\">\n",
       "      <th></th>\n",
       "      <th>Unnamed: 0</th>\n",
       "      <th>doc_id</th>\n",
       "      <th>date</th>\n",
       "      <th>url</th>\n",
       "      <th>full_text</th>\n",
       "    </tr>\n",
       "  </thead>\n",
       "  <tbody>\n",
       "    <tr>\n",
       "      <th>0</th>\n",
       "      <td>0</td>\n",
       "      <td>11</td>\n",
       "      <td>2002-03-10</td>\n",
       "      <td>http://timesofindia.indiatimes.com//city/luckn...</td>\n",
       "      <td>This story is from March 10, 2002\\n\\nlucknow: ...</td>\n",
       "    </tr>\n",
       "    <tr>\n",
       "      <th>1</th>\n",
       "      <td>1</td>\n",
       "      <td>12</td>\n",
       "      <td>2002-03-10</td>\n",
       "      <td>http://timesofindia.indiatimes.com//city/luckn...</td>\n",
       "      <td>This story is from March 10, 2002\\n\\nnew delhi...</td>\n",
       "    </tr>\n",
       "    <tr>\n",
       "      <th>2</th>\n",
       "      <td>2</td>\n",
       "      <td>13</td>\n",
       "      <td>2002-03-12</td>\n",
       "      <td>http://timesofindia.indiatimes.com//city/ahmed...</td>\n",
       "      <td>This story is from March 12, 2002\\n\\ngandhinag...</td>\n",
       "    </tr>\n",
       "    <tr>\n",
       "      <th>3</th>\n",
       "      <td>3</td>\n",
       "      <td>16</td>\n",
       "      <td>2002-03-01</td>\n",
       "      <td>http://timesofindia.indiatimes.com//city/luckn...</td>\n",
       "      <td>This story is from March 1, 2002\\n\\nlucknow: t...</td>\n",
       "    </tr>\n",
       "    <tr>\n",
       "      <th>4</th>\n",
       "      <td>4</td>\n",
       "      <td>27</td>\n",
       "      <td>2002-03-06</td>\n",
       "      <td>http://timesofindia.indiatimes.com//india/Over...</td>\n",
       "      <td>surat: the overall situation in the curfew-bou...</td>\n",
       "    </tr>\n",
       "  </tbody>\n",
       "</table>\n",
       "</div>"
      ],
      "text/plain": [
       "   Unnamed: 0  doc_id        date  \\\n",
       "0           0      11  2002-03-10   \n",
       "1           1      12  2002-03-10   \n",
       "2           2      13  2002-03-12   \n",
       "3           3      16  2002-03-01   \n",
       "4           4      27  2002-03-06   \n",
       "\n",
       "                                                 url  \\\n",
       "0  http://timesofindia.indiatimes.com//city/luckn...   \n",
       "1  http://timesofindia.indiatimes.com//city/luckn...   \n",
       "2  http://timesofindia.indiatimes.com//city/ahmed...   \n",
       "3  http://timesofindia.indiatimes.com//city/luckn...   \n",
       "4  http://timesofindia.indiatimes.com//india/Over...   \n",
       "\n",
       "                                           full_text  \n",
       "0  This story is from March 10, 2002\\n\\nlucknow: ...  \n",
       "1  This story is from March 10, 2002\\n\\nnew delhi...  \n",
       "2  This story is from March 12, 2002\\n\\ngandhinag...  \n",
       "3  This story is from March 1, 2002\\n\\nlucknow: t...  \n",
       "4  surat: the overall situation in the curfew-bou...  "
      ]
     },
     "execution_count": 6,
     "metadata": {},
     "output_type": "execute_result"
    }
   ],
   "source": [
    "metadata.head()"
   ]
  },
  {
   "cell_type": "markdown",
   "metadata": {},
   "source": [
    "## Zero-shot classification with MNLI\n",
    "\n",
    "Our paper provides several zero shot baselines for classifying documents or sentences with their event class labels. One approach is using a larg-scale language model trained on natural language inference (NLI) data. These models take a context (here, a sentence from a news article), a statement (here, a sentence about police activity), and return whether the statement is *entailed* by the context, *contradicted* by the context, or is *neutral*. We provide code below for using a RoBERTa model fine tuned on the MNLI dataset, and use the predicted probability or hard label prediction of the \"entailment\" class as a positive answer to the statement about police activity."
   ]
  },
  {
   "cell_type": "code",
   "execution_count": 11,
   "metadata": {},
   "outputs": [],
   "source": [
    "import torch\n",
    "import numpy as np \n",
    "from fairseq.data.data_utils import collate_tokens"
   ]
  },
  {
   "cell_type": "code",
   "execution_count": 12,
   "metadata": {},
   "outputs": [],
   "source": [
    "def load_roberta_mnli_model(): \n",
    "    \"\"\"\n",
    "    Load the (already fine-tuned) RoBERTa + MNLI model \n",
    "    \"\"\"\n",
    "    roberta = torch.hub.load('pytorch/fairseq', 'roberta.large.mnli')\n",
    "    return roberta \n",
    "\n",
    "def pred_roberta_mnli_batch(roberta, batch_of_pairs): \n",
    "    \"\"\"\n",
    "    Batched predictions with the RoBERTa MNLI model\n",
    "    Inputs: \n",
    "    - roberta : torch pre-trained RoBERTa model \n",
    "    - batch_of_pairs : list of list, each entry is (sent + context, question)\n",
    "        example \n",
    "        batch_of_pairs = [\n",
    "            ['Police were there. Police killed civilians.', 'Police killed someone'],\n",
    "            ['People died by police firing.', 'Police killed someone.']\n",
    "            ]\n",
    "    Output: \n",
    "    - prob_pos : probability the model assigns to \"entailment\"\n",
    "    - pred_pos : 0 or 1, whether the model predicts positive, \"entailment\" (is argmax across the three classes)\n",
    "    \"\"\"\n",
    "    label_map = {0: 'contradiction', 1: 'neutral', 2: 'entailment'} #from RoBERTa code  \n",
    "\n",
    "    roberta.eval()  # disable dropout for evaluation\n",
    "    batch = collate_tokens(\n",
    "        [roberta.encode(pair[0], pair[1]) for pair in batch_of_pairs], pad_idx=1\n",
    "    )\n",
    "    logprobs = roberta.predict('mnli', batch)\n",
    "    prob_pos = np.exp(logprobs.detach().numpy()[:, 2]) #probability of the \"entailment\"\n",
    "    pred_pos = (logprobs.argmax(dim=1).detach().numpy() == 2).astype(int)\n",
    "\n",
    "    assert len(batch_of_pairs) == len(prob_pos) == len(pred_pos)\n",
    "    return prob_pos, pred_pos"
   ]
  },
  {
   "cell_type": "code",
   "execution_count": 13,
   "metadata": {},
   "outputs": [
    {
     "name": "stderr",
     "output_type": "stream",
     "text": [
      "Downloading: \"https://github.com/pytorch/fairseq/archive/master.zip\" to /Users/KatieKeith/.cache/torch/hub/master.zip\n",
      "100%|██████████| 751652118/751652118 [01:26<00:00, 8694940.54B/s] \n",
      "1042301B [00:00, 7557004.76B/s]\n",
      "456318B [00:00, 5102102.52B/s]\n"
     ]
    }
   ],
   "source": [
    "roberta = load_roberta_mnli_model()"
   ]
  },
  {
   "cell_type": "code",
   "execution_count": 14,
   "metadata": {
    "scrolled": true
   },
   "outputs": [
    {
     "data": {
      "text/plain": [
       "'about a dozen rumour mongers were nabbed in the city last night, he said.'"
      ]
     },
     "execution_count": 14,
     "metadata": {},
     "output_type": "execute_result"
    }
   ],
   "source": [
    "arrest_example = sents[sents['ARREST'] == 1]\n",
    "example_text = arrest_example.iloc[4]['sent_text']\n",
    "example_text"
   ]
  },
  {
   "cell_type": "code",
   "execution_count": 15,
   "metadata": {},
   "outputs": [
    {
     "data": {
      "text/plain": [
       "(array([0.9284519], dtype=float32), array([1]))"
      ]
     },
     "execution_count": 15,
     "metadata": {},
     "output_type": "execute_result"
    }
   ],
   "source": [
    "pred_roberta_mnli_batch(roberta, [[example_text, \"Police arrested someone.\"]])"
   ]
  },
  {
   "cell_type": "code",
   "execution_count": 16,
   "metadata": {},
   "outputs": [
    {
     "data": {
      "text/plain": [
       "(array([0.01021631], dtype=float32), array([0]))"
      ]
     },
     "execution_count": 16,
     "metadata": {},
     "output_type": "execute_result"
    }
   ],
   "source": [
    "pred_roberta_mnli_batch(roberta, [[example_text, \"Police killed someone.\"]])"
   ]
  },
  {
   "cell_type": "code",
   "execution_count": 17,
   "metadata": {},
   "outputs": [
    {
     "data": {
      "text/plain": [
       "(array([0.6437364], dtype=float32), array([1]))"
      ]
     },
     "execution_count": 17,
     "metadata": {},
     "output_type": "execute_result"
    }
   ],
   "source": [
    "pred_roberta_mnli_batch(roberta, [[example_text, \"Police did something.\"]])"
   ]
  },
  {
   "cell_type": "code",
   "execution_count": 18,
   "metadata": {
    "scrolled": true
   },
   "outputs": [
    {
     "data": {
      "text/plain": [
       "(array([0.01087893], dtype=float32), array([0]))"
      ]
     },
     "execution_count": 18,
     "metadata": {},
     "output_type": "execute_result"
    }
   ],
   "source": [
    "pred_roberta_mnli_batch(roberta, [[example_text, \"This is an irrelevant sentence.\"]])"
   ]
  },
  {
   "cell_type": "code",
   "execution_count": 19,
   "metadata": {},
   "outputs": [
    {
     "data": {
      "text/plain": [
       "(array([0.37021947], dtype=float32), array([0]))"
      ]
     },
     "execution_count": 19,
     "metadata": {},
     "output_type": "execute_result"
    }
   ],
   "source": [
    "pred_roberta_mnli_batch(roberta, [[example_text, \"Wikipedia is an online encylopedia.\"]])"
   ]
  }
 ],
 "metadata": {
  "kernelspec": {
   "display_name": "puffr",
   "language": "python",
   "name": "puffr"
  },
  "language_info": {
   "codemirror_mode": {
    "name": "ipython",
    "version": 3
   },
   "file_extension": ".py",
   "mimetype": "text/x-python",
   "name": "python",
   "nbconvert_exporter": "python",
   "pygments_lexer": "ipython3",
   "version": "3.7.6"
  }
 },
 "nbformat": 4,
 "nbformat_minor": 4
}
